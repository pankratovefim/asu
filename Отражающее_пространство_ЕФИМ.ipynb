{
  "nbformat": 4,
  "nbformat_minor": 0,
  "metadata": {
    "coursera": {
      "course_slug": "linear-algebra-machine-learning",
      "graded_item_id": "IAKuU",
      "graded_part_id": "JA4Og",
      "launcher_item_id": "Kd7ZX"
    },
    "kernelspec": {
      "display_name": "Python 3",
      "language": "python",
      "name": "python3"
    },
    "language_info": {
      "codemirror_mode": {
        "name": "ipython",
        "version": 3
      },
      "file_extension": ".py",
      "mimetype": "text/x-python",
      "name": "python",
      "nbconvert_exporter": "python",
      "pygments_lexer": "ipython3",
      "version": "3.6.2"
    },
    "colab": {
      "provenance": [],
      "include_colab_link": true
    }
  },
  "cells": [
    {
      "cell_type": "markdown",
      "metadata": {
        "id": "view-in-github",
        "colab_type": "text"
      },
      "source": [
        "<a href=\"https://colab.research.google.com/github/pankratovefim/asu/blob/master/%D0%9E%D1%82%D1%80%D0%B0%D0%B6%D0%B0%D1%8E%D1%89%D0%B5%D0%B5_%D0%BF%D1%80%D0%BE%D1%81%D1%82%D1%80%D0%B0%D0%BD%D1%81%D1%82%D0%B2%D0%BE_%D0%95%D0%A4%D0%98%D0%9C.ipynb\" target=\"_parent\"><img src=\"https://colab.research.google.com/assets/colab-badge.svg\" alt=\"Open In Colab\"/></a>"
      ]
    },
    {
      "cell_type": "markdown",
      "metadata": {
        "id": "JvFybDMoqVpi"
      },
      "source": [
        "*texte en italique*# Reflecting Bear\n",
        "## Предыстория\n",
        "Медведь Панда в замешательстве. Он пытается придумать, как все должно выглядеть в зеркале, но получает неверные результаты. В его координатах зеркало лежит вдоль первой оси. Но, как и всегда у медведей, его система координат не ортонормирована: поэтому то, что, как он думает, перпендикулярно зеркалу, вообще не то направление, в котором зеркало отражает. Помогите Медведю написать код, который будет правильно выполнять вычисления его матрицы!\n",
        "\n",
        "## Инструкции\n",
        "В этом задании вы напишете функцию на Python, которая будет создавать матрицу преобразования для отражения векторов в зеркале под произвольным углом.\n",
        "\n",
        "Основываясь на последнем задании, где вы написали код для построения ортонормированного базиса по на набору входных векторов, здесь вы возьмете матрицу, которая принимает простую форму в этом базисе, и преобразуете ее в наш исходный базис.\n",
        "Вспомните из последней лекции:\n",
        "\n",
        "$ T=E T_{E} E^{-1} $\n",
        "\n",
        "Вы напишете функцию, которая будет строить эту матрицу.\n",
        "Это задание несложное концептуально, но поможет вам развить и проверить вашу способность выражать математические идеи в коде. То есть, здесь ваш код будет относительно коротким, но вы получите меньше информации о том, как его писать.\n",
        "\n",
        "### Матрицы в Python\n",
        "В этом упражнении мы снова будем использовать оператор @.\n",
        "Напомним, в предыдущем упражнении мы использовали этот оператор для получения скалярного произведения векторов.\n",
        "В общем случае оператор будет комбинировать векторы и / или матрицы ожидаемым способом линейной алгебры,\n",
        "то есть это будет или скалярное произведение вектора, или умножение матриц, или матричная операция над вектором, в зависимости от его операндов.\n",
        "Например, чтобы вычислить следующие выражения,\n",
        "\n",
        "\\\\( a = \\mathbf{s}\\cdot\\mathbf{t} \\\\)\n",
        "\n",
        "\\\\( \\mathbf{s} = A\\mathbf{t} \\\\)\n",
        "\n",
        "\\\\( M = A B \\\\),\n",
        "\n",
        "One would use the code,\n",
        "```python\n",
        "a = s @ t\n",
        "s = A @ t\n",
        "M = A @ B\n",
        "```\n",
        "(В отличие от оператора \\\\( * \\\\), который выполняет поэлементное умножение или умножение на скаляр.)\n",
        "\n",
        "\n",
        "Возможно, вам понадобится использовать какие-нибудь из следующих функций:\n",
        "```python\n",
        "inv(A)\n",
        "transpose(A)\n",
        "gsBasis(A)\n",
        "```\n",
        "которые возвращают, соответственно, инверсию матрицы, транспонирование матрицы и матрицу ортонормированных векторов-столбцов, заданную общей матрицей векторов-столбцов, то есть выполняют процесс Грама-Шмидта.\n",
        "В этом упражнении вам придется комбинировать некоторые из этих функций.\n"
      ]
    },
    {
      "cell_type": "code",
      "metadata": {
        "id": "ONhY5sjprEdY",
        "outputId": "acf21875-f91e-4e03-c7a3-35c45b5b56b1",
        "colab": {
          "base_uri": "https://localhost:8080/"
        }
      },
      "source": [
        "\n",
        "# запустите эту ячейку один раз\n",
        "!wget https://github.com/andrew-veriga/MathForML/raw/master/MathForMLAssignes.zip\n",
        "!unzip -u MathForMLAssignes.zip\n",
        "!rm MathForMLAssignes.zip\n"
      ],
      "execution_count": null,
      "outputs": [
        {
          "output_type": "stream",
          "name": "stdout",
          "text": [
            "--2022-11-22 08:27:03--  https://github.com/andrew-veriga/MathForML/raw/master/MathForMLAssignes.zip\n",
            "Resolving github.com (github.com)... 140.82.114.4\n",
            "Connecting to github.com (github.com)|140.82.114.4|:443... connected.\n",
            "HTTP request sent, awaiting response... 302 Found\n",
            "Location: https://raw.githubusercontent.com/andrew-veriga/MathForML/master/MathForMLAssignes.zip [following]\n",
            "--2022-11-22 08:27:03--  https://raw.githubusercontent.com/andrew-veriga/MathForML/master/MathForMLAssignes.zip\n",
            "Resolving raw.githubusercontent.com (raw.githubusercontent.com)... 185.199.108.133, 185.199.109.133, 185.199.110.133, ...\n",
            "Connecting to raw.githubusercontent.com (raw.githubusercontent.com)|185.199.108.133|:443... connected.\n",
            "HTTP request sent, awaiting response... 200 OK\n",
            "Length: 2369 (2.3K) [application/zip]\n",
            "Saving to: ‘MathForMLAssignes.zip’\n",
            "\n",
            "MathForMLAssignes.z 100%[===================>]   2.31K  --.-KB/s    in 0s      \n",
            "\n",
            "2022-11-22 08:27:04 (42.0 MB/s) - ‘MathForMLAssignes.zip’ saved [2369/2369]\n",
            "\n",
            "Archive:  MathForMLAssignes.zip\n",
            "  inflating: bearNecessities.py      \n",
            "  inflating: PageRankFunctions.py    \n"
          ]
        }
      ]
    },
    {
      "cell_type": "code",
      "metadata": {
        "id": "cxCFqHEsqVpi"
      },
      "source": [
        "\n",
        "import numpy as np\n",
        "from numpy.linalg import norm, inv\n",
        "from numpy import transpose\n",
        "from bearNecessities import *"
      ],
      "execution_count": null,
      "outputs": []
    },
    {
      "cell_type": "code",
      "metadata": {
        "id": "Z7eV5gWxqVpi"
      },
      "source": [
        "# Вы должны отредактировать эту ячейку.\n",
        "\n",
        "# В этой функции вы вернете матрицу преобразования T,\n",
        "# построив его из ортонормированного базиса E, который вы создадите из базиса Панды\n",
        "# и матрицу преобразования в координатах зеркала TE.\n",
        "\n",
        "def build_reflection_matrix(bearBasis) : # параметр bearBasis - матрица 2×2\n",
        "    # Используйте функцию gsBasis для bearBasis, чтобы получить ортонормированный базис зеркала.\n",
        "    E = gsBasis(bearBasis)\n",
        "    \n",
        "    # Выпишите матрицу в виде компонентов, которая выполняет зеркальное отражение в базисе зеркала.\n",
        "    # Напомним, что зеркало работает, инвертируя последний компонент вектора.\n",
        "    # Замените a, b, c, d соответствующими значениями\n",
        "    TE = np.array([[1, 0],\n",
        "                   [0, -1]])\n",
        "    # Combine the matrices E and TE to produce your transformation matrix.\n",
        "    # комбинируйте матрицы E и TE, чтобы получить матрицу преобразования.\n",
        "    T = E @ TE @ transpose(E)\n",
        "    # И наконец, возвращаем результат. Эту строку менять не нужно.\n",
        "    return T\n"
      ],
      "execution_count": null,
      "outputs": []
    },
    {
      "cell_type": "markdown",
      "metadata": {
        "id": "1CcTtaTeqVpi"
      },
      "source": [
        "## Проверьте свой код перед отправкой\n",
        "Чтобы проверить код, который вы написали выше, запустите ячейку (выберите ячейку выше, затем нажмите кнопку воспроизведения [▶ |] или нажмите Shift-Enter).\n",
        "Затем вы можете использовать приведенный ниже код, чтобы проверить свою функцию.\n",
        "эту ячейку не нужно отправлять; вы можете редактировать и запускать ее сколько угодно.\n",
        "\n",
        "В приведенном ниже коде показано изображение медведя Панды.\n",
        "Если вы правильно реализовали описанную выше функцию, вы также увидите отражение Медведя в его зеркале.\n",
        "Оранжевые оси - это базис Медведя, а розовые оси - ортонормированный базис зеркала."
      ]
    },
    {
      "cell_type": "code",
      "metadata": {
        "id": "fDE5bjvmqVpi"
      },
      "source": [
        "# Сначала загрузим Pyplot, библиотеку построения графиков.\n",
        "%matplotlib inline\n",
        "import matplotlib.pyplot as plt\n",
        "# Это матрица базисных векторов Медведя.\n",
        "# (Выполнив упражнение один раз, попробуйте измените базис Медведя и посмотрите что произойдет.)\n",
        "bearBasis = np.array(\n",
        "    [[1,   -1],\n",
        "     [1, 2]])\n",
        "# Эта строка использует ваш код построения матрицы преобразования.\n",
        "T = build_reflection_matrix(bearBasis)\n",
        "\n",
        "# Медведь нарисован как набор многоугольников, вершины которых размещены в виде матричного списка векторов-столбцов.\n",
        "# У нас есть три таких списка неквадратных матриц: bear_white_fur, bear_black_fur и bear_face.\n",
        "# Мы составим новые списки вершин, применяя вычисленную вами матрицу T.\n",
        "\n",
        "reflected_bear_white_fur = T @ bear_white_fur\n",
        "reflected_bear_black_fur = T @ bear_black_fur\n",
        "reflected_bear_face = T @ bear_face\n",
        "\n",
        "# В следующей строке выполняется код для настройки графической среды.\n",
        "ax = draw_mirror(bearBasis)\n",
        "\n",
        "\n",
        "# Сначала мы начертим Медведя, его белый мех, его черный мех и его морду.\n",
        "\n",
        "ax.fill(bear_white_fur[0], bear_white_fur[1], color=bear_white, zorder=1)\n",
        "ax.fill(bear_black_fur[0], bear_black_fur[1], color=bear_black, zorder=2)\n",
        "ax.plot(bear_face[0], bear_face[1], color=bear_white, zorder=3)\n",
        "\n",
        "# Далее мы начертим отражение Медведя.\n",
        "ax.fill(reflected_bear_white_fur[0], reflected_bear_white_fur[1], color=bear_white, zorder=1)\n",
        "ax.fill(reflected_bear_black_fur[0], reflected_bear_black_fur[1], color=bear_black, zorder=2)\n",
        "ax.plot(reflected_bear_face[0], reflected_bear_face[1], color=bear_white, zorder=3);\n"
      ],
      "execution_count": null,
      "outputs": []
    },
    {
      "cell_type": "code",
      "metadata": {
        "id": "uq7-GpaMqVpi"
      },
      "source": [],
      "execution_count": null,
      "outputs": []
    }
  ]
}